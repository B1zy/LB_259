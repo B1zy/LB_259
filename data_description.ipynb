{
 "cells": [
  {
   "cell_type": "code",
   "execution_count": null,
   "id": "922b63f4-2a6c-4912-b85d-a1058b190cd6",
   "metadata": {},
   "outputs": [],
   "source": [
    "2.1 Für welches Daten-Feld möchten Sie Vorhersagen treffen können?\n",
    "Warscheinlich Score oder Userscore, aber Users und Critics könnte auch eine gute alternative sein. ZB haben high rated games viele benutzer oder nicht etc.\n",
    "\n",
    "    "
   ]
  },
  {
   "cell_type": "code",
   "execution_count": 4,
   "id": "436c1c45-3ced-4adb-bcf0-4e302300cf4f",
   "metadata": {},
   "outputs": [
    {
     "name": "stdout",
     "output_type": "stream",
     "text": [
      "Requirement already satisfied: openpyxl in c:\\users\\kamil\\appdata\\local\\programs\\python\\python39\\lib\\site-packages (3.1.5)\n",
      "Requirement already satisfied: et-xmlfile in c:\\users\\kamil\\appdata\\local\\programs\\python\\python39\\lib\\site-packages (from openpyxl) (2.0.0)\n",
      "Note: you may need to restart the kernel to use updated packages.\n"
     ]
    }
   ],
   "source": [
    "pip install openpyxl"
   ]
  },
  {
   "cell_type": "code",
   "execution_count": null,
   "id": "2e964b9f-4f4e-49d4-849a-f9c2d60ced1a",
   "metadata": {},
   "outputs": [],
   "source": [
    "2.2 Bestimmen Sie für jedes Feld einige relevanten statistischen\n",
    "Informationen wie beispielsweise Median und Standardabweichung."
   ]
  },
  {
   "cell_type": "code",
   "execution_count": 5,
   "id": "734ba035-51cc-4127-91c6-a9ed03d76923",
   "metadata": {},
   "outputs": [
    {
     "name": "stdout",
     "output_type": "stream",
     "text": [
      "            Median  Standardabweichung  Mittelwert   Min       Max\n",
      "score         72.0           12.410885   70.386647  11.0      99.0\n",
      "user score     7.3            1.361018    6.988606   0.2       9.8\n",
      "critics       17.0           17.152985   23.149799   0.0     126.0\n",
      "users         28.0         1280.291974  172.797983   0.0  146262.0\n"
     ]
    }
   ],
   "source": [
    "\n",
    "import pandas as pd\n",
    "\n",
    "df = pd.read_excel(\"daten metacritic.xlsx\", sheet_name=\"games-data\")\n",
    "\n",
    "numeric_cols = ['score', 'user score', 'critics', 'users']\n",
    "\n",
    "df['user score'] = pd.to_numeric(df['user score'], errors='coerce')\n",
    "\n",
    "stats = {}\n",
    "for col in numeric_cols:\n",
    "    stats[col] = {\n",
    "        'Median': df[col].median(),\n",
    "        'Standardabweichung': df[col].std(),\n",
    "        'Mittelwert': df[col].mean(),\n",
    "        'Min': df[col].min(),\n",
    "        'Max': df[col].max()\n",
    "    }\n",
    "\n",
    "stats_df = pd.DataFrame(stats).T\n",
    "print(stats_df)"
   ]
  },
  {
   "cell_type": "code",
   "execution_count": null,
   "id": "54e0d6a0-1dc9-41f6-b6f8-95f7ff716afb",
   "metadata": {},
   "outputs": [],
   "source": [
    "2.3 Erstellen Sie mindestens eine Grafik, beispielsweise ein Histogramm für\n",
    "eines der Datenfelder oder eine Regression für mehrere Felder."
   ]
  },
  {
   "cell_type": "code",
   "execution_count": 6,
   "id": "e6c93c67-6ccb-4473-b3e6-d20d031891d3",
   "metadata": {},
   "outputs": [
    {
     "data": {
      "image/png": "[encoded data removed]",
      "text/plain": [
       "<Figure size 1000x500 with 1 Axes>"
      ]
     },
     "metadata": {},
     "output_type": "display_data"
    }
   ],
   "source": [
    "import pandas as pd\n",
    "import matplotlib.pyplot as plt\n",
    "\n",
    "# Excel-Datei einlesen\n",
    "df = pd.read_excel(\"daten metacritic.xlsx\", sheet_name=\"games-data\")\n",
    "\n",
    "# Fehlerhafte/nicht-numerische Werte bereinigen\n",
    "df['score'] = pd.to_numeric(df['score'], errors='coerce')\n",
    "\n",
    "# Histogramm erstellen\n",
    "plt.figure(figsize=(10, 5))\n",
    "plt.hist(df['score'].dropna(), bins=20, edgecolor='black', alpha=0.7)\n",
    "plt.xlabel(\"Score\")\n",
    "plt.ylabel(\"Häufigkeit\")\n",
    "plt.title(\"Histogramm der Scores\")\n",
    "plt.grid(axis='y', linestyle='--', alpha=0.7)\n",
    "\n",
    "# Diagramm anzeigen\n",
    "plt.show()\n"
   ]
  },
  {
   "cell_type": "code",
   "execution_count": null,
   "id": "72fee1fb-c478-4442-a78e-85e263b3a53a",
   "metadata": {},
   "outputs": [],
   "source": [
    "2.4 Skalieren Sie mindestens ein Datenfeld; oder argumentieren Sie in\n",
    "weiteren 50 bis 100 Wörtern in Ihrem Notizbuch, warum dies bei Ihrem\n",
    "Datensatz nicht sinnvoll ist."
   ]
  },
  {
   "cell_type": "code",
   "execution_count": 9,
   "id": "c2eb73da-3d1e-461f-8d4e-78d367916334",
   "metadata": {},
   "outputs": [
    {
     "name": "stdout",
     "output_type": "stream",
     "text": [
      "       users_normalized  critics_normalized\n",
      "count      17944.000000        17944.000000\n",
      "mean           0.001181            0.183729\n",
      "std            0.008753            0.136135\n",
      "min            0.000000            0.000000\n",
      "25%            0.000075            0.087302\n",
      "50%            0.000191            0.134921\n",
      "75%            0.000615            0.238095\n",
      "max            1.000000            1.000000\n"
     ]
    }
   ],
   "source": [
    "import pandas as pd\n",
    "\n",
    "df = pd.read_excel(\"daten metacritic.xlsx\", sheet_name=\"games-data\")\n",
    "\n",
    "df[\"users\"] = pd.to_numeric(df[\"users\"], errors=\"coerce\")\n",
    "df[\"critics\"] = pd.to_numeric(df[\"critics\"], errors=\"coerce\")\n",
    "\n",
    "df[\"users_normalized\"] = (df[\"users\"] - df[\"users\"].min()) / (df[\"users\"].max() - df[\"users\"].min())\n",
    "df[\"critics_normalized\"] = (df[\"critics\"] - df[\"critics\"].min()) / (df[\"critics\"].max() - df[\"critics\"].min())\n",
    "\n",
    "print(df[[\"users_normalized\", \"critics_normalized\"]].describe())"
   ]
  },
  {
   "cell_type": "code",
   "execution_count": null,
   "id": "542c8c02-3ac5-453c-b9bc-b18710c6cbb6",
   "metadata": {},
   "outputs": [],
   "source": []
  }
 ],
 "metadata": {
  "kernelspec": {
   "display_name": "Python 3 (ipykernel)",
   "language": "python",
   "name": "python3"
  },
  "language_info": {
   "codemirror_mode": {
    "name": "ipython",
    "version": 3
   },
   "file_extension": ".py",
   "mimetype": "text/x-python",
   "name": "python",
   "nbconvert_exporter": "python",
   "pygments_lexer": "ipython3",
   "version": "3.9.13"
  }
 },
 "nbformat": 4,
 "nbformat_minor": 5
}
