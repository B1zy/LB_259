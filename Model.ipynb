{
 "cells": [
  {
   "cell_type": "markdown",
   "id": "173b9d64-27b4-4746-aa97-fa1188c018f8",
   "metadata": {},
   "source": [
    "# 3.1 Teilen Sie Ihren Datensatz in einen test- und einen train-Satz ein. "
   ]
  },
  {
   "cell_type": "code",
   "execution_count": 6,
   "id": "8345ccb6-6ef9-4c31-b0a6-52df8309b93d",
   "metadata": {},
   "outputs": [
    {
     "name": "stdout",
     "output_type": "stream",
     "text": [
      "Loaded 16658 rows of data\n",
      "            name      platform      r-date  score  user score developer  \\\n",
      "0  Madden NFL 21  PlayStation4  1598313600     63         0.2  EASports   \n",
      "1  Madden NFL 21       XboxOne  1598313600     69         0.4  EASports   \n",
      "\n",
      "                      genre   players  critics  users  1 Player  1-2 Player  \\\n",
      "0  Sports,Team,Football,Sim  Up to 6        29   5363         0           0   \n",
      "1  Sports,Team,Football,Sim  Up to 6        20    994         0           0   \n",
      "\n",
      "   No Online Multiplayer  MP up to 32  MP up to 30  MP up to 16  No info  \\\n",
      "0                      0            0            0            0        0   \n",
      "1                      0            0            0            0        0   \n",
      "\n",
      "   1-4 Player  \n",
      "0           0  \n",
      "1           0  \n",
      "score                    int64\n",
      "r-date                   int64\n",
      "critics                  int64\n",
      "users                    int64\n",
      "1 Player                 int64\n",
      "1-2 Player               int64\n",
      "No Online Multiplayer    int64\n",
      "MP up to 32              int64\n",
      "MP up to 30              int64\n",
      "MP up to 16              int64\n",
      "No info                  int64\n",
      "1-4 Player               int64\n",
      "dtype: object\n",
      "Training data: 13326 samples\n",
      "Test data: 3332 samples\n"
     ]
    }
   ],
   "source": [
    "import pandas as pd\n",
    "from sklearn.model_selection import train_test_split\n",
    "from sklearn.linear_model import LinearRegression, Ridge\n",
    "from sklearn.ensemble import RandomForestRegressor, GradientBoostingRegressor\n",
    "from sklearn.metrics import root_mean_squared_error, r2_score\n",
    "\n",
    "file_path = \"daten metacritic.csv\"\n",
    "\n",
    "\n",
    "df = pd.read_csv(file_path, sep=';')\n",
    "df['r-date'] = pd.to_datetime(df['r-date'], format='%d.%m.%Y')\n",
    "df['r-date'] = df['r-date'].astype('int64') // 10**9\n",
    " \n",
    "print(f\"Loaded {len(df)} rows of data\")\n",
    "print(df.head(2))\n",
    "\n",
    "features = ['score', 'r-date', 'critics', 'users', '1 Player'\t,'1-2 Player',\t'No Online Multiplayer'\t,'MP up to 32'\t,'MP up to 30',\t'MP up to 16'\t,'No info'\t,'1-4 Player'] \n",
    "\n",
    "X = df[features]\n",
    "y = df['user score'] \n",
    "\n",
    "X_train, X_test, y_train, y_test = train_test_split(\n",
    "    X, y, test_size=0.2, random_state=42\n",
    ")\n",
    "print(df[features].dtypes)\n",
    "print(f\"Training data: {X_train.shape[0]} samples\")\n",
    "print(f\"Test data: {X_test.shape[0]} samples\")"
   ]
  },
  {
   "cell_type": "markdown",
   "id": "7f165a6c-e6f2-45cc-8733-96668b8f577b",
   "metadata": {},
   "source": [
    "# 3.2 Bestimmen Sie einen Algorithmus aus sklearn, der für Ihren Datensatz und Ihr Problem geeignet ist. Erklären Sie Ihre Entscheidung in 50 bis 100 Wörtern. Alternativ dazu können Sie auch verschiedene Algorithmen evaluieren und so bestimmen, welcher am besten geeignet ist. Berechnen Sie ein Modell mittels Ihres ausgesuchten Algorithmus auf Ihren train-Daten."
   ]
  },
  {
   "cell_type": "code",
   "execution_count": 7,
   "id": "cb1d298c-2085-4928-8060-6bc257a78258",
   "metadata": {},
   "outputs": [
    {
     "name": "stdout",
     "output_type": "stream",
     "text": [
      "Training Linear Regression...\n",
      "Linear Regression: Train RMSE = 1.0740, Test RMSE = 1.0995, Test R² = 0.3597\n",
      "Training Ridge Regression...\n",
      "Ridge Regression: Train RMSE = 1.0740, Test RMSE = 1.0994, Test R² = 0.3599\n",
      "Training Random Forest...\n"
     ]
    },
    {
     "name": "stderr",
     "output_type": "stream",
     "text": [
      "C:\\Users\\kamil\\AppData\\Local\\Programs\\Python\\Python39\\lib\\site-packages\\sklearn\\linear_model\\_ridge.py:215: LinAlgWarning: Ill-conditioned matrix (rcond=8.75244e-21): result may not be accurate.\n",
      "  return linalg.solve(A, Xy, assume_a=\"pos\", overwrite_a=True).T\n"
     ]
    },
    {
     "name": "stdout",
     "output_type": "stream",
     "text": [
      "Random Forest: Train RMSE = 0.3960, Test RMSE = 1.0443, Test R² = 0.4224\n",
      "Training Gradient Boosting...\n",
      "Gradient Boosting: Train RMSE = 1.0115, Test RMSE = 1.0306, Test R² = 0.4375\n",
      "\n",
      "Bester Algorithmus: Gradient Boosting\n"
     ]
    }
   ],
   "source": [
    "\n",
    "models = {\n",
    "    \"Linear Regression\": LinearRegression(),\n",
    "    \"Ridge Regression\": Ridge(),\n",
    "    \"Random Forest\": RandomForestRegressor(random_state=42),\n",
    "    \"Gradient Boosting\": GradientBoostingRegressor(random_state=42)\n",
    "}\n",
    "\n",
    "results = {}\n",
    "for name, model in models.items():\n",
    "    print(f\"Training {name}...\")\n",
    "    model.fit(X_train, y_train)\n",
    "    train_pred = model.predict(X_train)\n",
    "    test_pred = model.predict(X_test)\n",
    "    \n",
    "    train_rmse = root_mean_squared_error(y_train, train_pred)\n",
    "    test_rmse = root_mean_squared_error(y_test, test_pred)\n",
    "    test_r2 = r2_score(y_test, test_pred)\n",
    "    \n",
    "    results[name] = {\"Train RMSE\": train_rmse, \"Test RMSE\": test_rmse, \"Test R²\": test_r2}\n",
    "    print(f\"{name}: Train RMSE = {train_rmse:.4f}, Test RMSE = {test_rmse:.4f}, Test R² = {test_r2:.4f}\")\n",
    "\n",
    "best_model = min(results, key=lambda x: results[x][\"Test RMSE\"])\n",
    "print(f\"\\nBester Algorithmus: {best_model}\")"
   ]
  },
  {
   "cell_type": "markdown",
   "id": "ffa1bffa-6ee4-4b57-a92c-51192bdfd2b2",
   "metadata": {},
   "source": []
  },
  {
   "cell_type": "markdown",
   "id": "e8aad57d-6c23-4acf-9b06-291b687b2fef",
   "metadata": {},
   "source": [
    "# 3.3 Testen Sie, wie gut Ihr Modell funktioniert, indem Sie einige Vorhersagen aus dem test-Datensatz generieren und diese manuell auf ihre Sinnhaftigkeit überprüfen. Fassen Sie Ihre Erkenntnisse in 50 bis 100 Wörtern zusammen."
   ]
  },
  {
   "cell_type": "code",
   "execution_count": 1,
   "id": "fef2d2b7-a247-4392-b1f4-0564ad9bd451",
   "metadata": {},
   "outputs": [
    {
     "name": "stdout",
     "output_type": "stream",
     "text": [
      "\n",
      "Sample Predictions vs Actual Values:\n",
      "                                          Game      Platform  Critic Score  \\\n",
      "9246   Naruto Shippuden: Ultimate Ninja Impact           PSP            59   \n",
      "8748                                   F1 2017       XboxOne            84   \n",
      "409                       Game Party Champions          WiiU            24   \n",
      "251                             Torchlight III            PC            65   \n",
      "14857                           Dragon's Dogma  PlayStation3            78   \n",
      "...                                        ...           ...           ...   \n",
      "9060                               God Eater 3  PlayStation4            71   \n",
      "6507                               ShadowFlare            PC            49   \n",
      "5270                             Kakuto Chojin          Xbox            46   \n",
      "15614                        Midtown Madness 2            PC            78   \n",
      "9851                               NBA Live 07           PSP            64   \n",
      "\n",
      "       Actual User Score  Predicted User Score  Error  \n",
      "9246                 7.4                  6.21   1.19  \n",
      "8748                 7.4                  7.07   0.33  \n",
      "409                  3.4                  3.06   0.34  \n",
      "251                  3.0                  5.45   2.45  \n",
      "14857                8.4                  7.52   0.88  \n",
      "...                  ...                   ...    ...  \n",
      "9060                 7.4                  6.44   0.96  \n",
      "6507                 6.9                  6.18   0.72  \n",
      "5270                 6.6                  6.18   0.42  \n",
      "15614                8.6                  8.09   0.51  \n",
      "9851                 7.5                  6.74   0.76  \n",
      "\n",
      "[200 rows x 6 columns]\n",
      "\n",
      "Average Absolute Error: 0.71\n"
     ]
    }
   ],
   "source": [
    "import pandas as pd\n",
    "import numpy as np\n",
    "from sklearn.model_selection import train_test_split\n",
    "from sklearn.ensemble import GradientBoostingRegressor\n",
    "import joblib\n",
    "\n",
    "np.random.seed(42)\n",
    "\n",
    "file_path = \"daten metacritic.csv\"\n",
    "\n",
    "df = pd.read_csv(file_path, sep=';')\n",
    "df['r-date'] = pd.to_datetime(df['r-date'], format='%d.%m.%Y')\n",
    "df['r-date'] = df['r-date'].astype('int64') // 10**9\n",
    "\n",
    "features = ['score', 'r-date', 'critics', 'users', '1 Player', '1-2 Player', 'No Online Multiplayer', 'MP up to 32', 'MP up to 30', 'MP up to 16', 'No info', '1-4 Player'] \n",
    "\n",
    "X = df[features]\n",
    "y = df['user score'] \n",
    "\n",
    "X_train, X_test, y_train, y_test = train_test_split(\n",
    "    X, y, test_size=0.2, random_state=42\n",
    ")\n",
    "\n",
    "gb_model = GradientBoostingRegressor(random_state=42)\n",
    "gb_model.fit(X_train, y_train)\n",
    "\n",
    "joblib.dump(gb_model, 'metacritic_model.joblib')\n",
    "\n",
    "sample_size = 200\n",
    "np.random.seed(None)\n",
    "random_indices = np.random.choice(len(X_test), sample_size, replace=False)\n",
    "np.save('sample_indices.npy', random_indices)\n",
    "\n",
    "sample_X = X_test.iloc[random_indices]\n",
    "sample_y = y_test.iloc[random_indices]\n",
    "sample_names = df.iloc[sample_X.index]['name']\n",
    "sample_platforms = df.iloc[sample_X.index]['platform']\n",
    "sample_scores = df.iloc[sample_X.index]['score']\n",
    "\n",
    "predictions = gb_model.predict(sample_X)\n",
    "\n",
    "comparison = pd.DataFrame({\n",
    "    'Game': sample_names,\n",
    "    'Platform': sample_platforms, \n",
    "    'Critic Score': sample_scores,\n",
    "    'Actual User Score': sample_y,\n",
    "    'Predicted User Score': predictions,\n",
    "    'Error': np.abs(sample_y - predictions)\n",
    "})\n",
    "\n",
    "print(\"\\nSample Predictions vs Actual Values:\")\n",
    "print(comparison.round(2))\n",
    "\n",
    "avg_error = comparison['Error'].mean()\n",
    "print(f\"\\nAverage Absolute Error: {avg_error:.2f}\")"
   ]
  },
  {
   "cell_type": "markdown",
   "id": "06d00565-4f98-4333-8162-57403d024860",
   "metadata": {},
   "source": [
    "Nach Überprüfung der Vorhersagen des Gradient Boosting Modells zeigt sich, dass es die Benutzerscores mit ordentlicher Genauigkeit vorhersagt. Bei Spielen mit extremen Bewertungsunterschieden zwischen Kritikern und Nutzern sind die Fehler grösser. Das Modell tendiert dazu, bei hochgelobten Spielen zu optimistisch und bei stark kritisierten Spielen zu pessimistisch zu sein. Die Vorhersagegenauigkeit ist am besten bei Spielen mit mittleren Bewertungen. Insbesondere kann das Modell gut erkennen, wenn ein Spiel von Nutzern deutlich schlechter bewertet wird als von Kritikern. Dies deutet darauf hin, dass die Faktoren, die zur Nutzerunzufriedenheit führen, konsistente Muster aufweisen."
   ]
  },
  {
   "cell_type": "code",
   "execution_count": null,
   "id": "bf2377fd-95e3-4576-9fdd-1d3c38918e9a",
   "metadata": {},
   "outputs": [],
   "source": []
  }
 ],
 "metadata": {
  "kernelspec": {
   "display_name": "Python 3 (ipykernel)",
   "language": "python",
   "name": "python3"
  },
  "language_info": {
   "codemirror_mode": {
    "name": "ipython",
    "version": 3
   },
   "file_extension": ".py",
   "mimetype": "text/x-python",
   "name": "python",
   "nbconvert_exporter": "python",
   "pygments_lexer": "ipython3",
   "version": "3.9.13"
  }
 },
 "nbformat": 4,
 "nbformat_minor": 5
}
